{
 "cells": [
  {
   "cell_type": "markdown",
   "metadata": {},
   "source": [
    "# Imports"
   ]
  },
  {
   "cell_type": "code",
   "execution_count": null,
   "metadata": {},
   "outputs": [],
   "source": [
    "import json\n",
    "from time import perf_counter\n",
    "import os\n",
    "\n",
    "from firebase import firebase\n",
    "import pandas as pd\n",
    "import numpy as np\n",
    "\n",
    "print(\"Libraries Imported\")"
   ]
  },
  {
   "cell_type": "code",
   "execution_count": null,
   "metadata": {},
   "outputs": [],
   "source": [
    "os.makedirs(\"data\", exist_ok=True)"
   ]
  },
  {
   "cell_type": "markdown",
   "metadata": {},
   "source": [
    "# Notebook Parameters "
   ]
  },
  {
   "cell_type": "code",
   "execution_count": null,
   "metadata": {},
   "outputs": [],
   "source": [
    "# General\n",
    "minimal_rates_per_movie = 3\n",
    "\n",
    "original_minimum = -1\n",
    "scaled_minimum = -1\n",
    "\n",
    "original_maximum = 1\n",
    "scaled_maximum = 1\n",
    "\n",
    "# Stochastic Gradient Descent\n",
    "sgd_params = {\n",
    "    \"alpha\": 0.1,\n",
    "    \"lambda_\": 0.1,\n",
    "    \"num_epochs\": 100,\n",
    "    \"mini_batch_size\": 1,\n",
    "    \"r\": None,\n",
    "    \"seed\": 42\n",
    "}"
   ]
  },
  {
   "cell_type": "markdown",
   "metadata": {},
   "source": [
    "# Read Data"
   ]
  },
  {
   "cell_type": "code",
   "execution_count": null,
   "metadata": {},
   "outputs": [],
   "source": [
    "try:\n",
    "    fb_app = firebase.FirebaseApplication('https://watchthis-a7537-default-rtdb.firebaseio.com', None)\n",
    "    result = fb_app.get('/ratings', None)\n",
    "\n",
    "    with open(\"data/database_backup.json\", \"w\") as db_file:\n",
    "        json.dump(result, db_file, sort_keys=True, indent=4, separators=(',\\n', ': '))\n",
    "    \n",
    "    print(\"Database Successfully Read and Backed Up\")\n",
    "    print(f\"Database Contains {len(result)} entries\")\n",
    "    \n",
    "except:\n",
    "    print(\"Database could not be read, using last backup\")\n",
    "    \n",
    "    with open(\"data/database_backup.json\", \"r\") as db_file:\n",
    "        result = json.load(db_file)\n",
    "        \n",
    "    print(f\"Backup Read - Contains {len(result)} entries\")"
   ]
  },
  {
   "cell_type": "markdown",
   "metadata": {},
   "source": [
    "# Format Data"
   ]
  },
  {
   "cell_type": "code",
   "execution_count": null,
   "metadata": {},
   "outputs": [],
   "source": [
    "ratings = []\n",
    "for rating in result.values():\n",
    "    row = (rating[\"userId\"], rating[\"movieId\"], rating[\"rating\"], rating[\"timestamp\"])\n",
    "    ratings.append(row)\n",
    "\n",
    "ratings_df = pd.DataFrame(columns=[\"userId\", \"movieId\", \"rating\", \"timestamp\"], data=ratings)\n",
    "ratings_df[\"rating\"] = (ratings_df[\"rating\"].replace(original_minimum, scaled_minimum)\n",
    "                                            .replace(original_maximum, scaled_maximum)\n",
    "                       )\n",
    "\n",
    "print(\"Data Formated - Unique Elements:\")\n",
    "print(ratings_df[[\"userId\", \"movieId\"]].nunique())"
   ]
  },
  {
   "cell_type": "markdown",
   "metadata": {},
   "source": [
    "# User and Movie Mappings"
   ]
  },
  {
   "cell_type": "code",
   "execution_count": null,
   "metadata": {},
   "outputs": [],
   "source": [
    "movie_mappings = (ratings_df['movieId']\n",
    "                      .drop_duplicates()\n",
    "                      .sort_values()\n",
    "                      .reset_index(drop=True)\n",
    "                      .reset_index()\n",
    "                      .set_index(\"movieId\")[\"index\"]\n",
    "                      .to_dict()\n",
    "                 )\n",
    "\n",
    "user_mappings = (ratings_df['userId']\n",
    "                      .drop_duplicates()\n",
    "                      .sort_values()\n",
    "                      .reset_index(drop=True)\n",
    "                      .reset_index()\n",
    "                      .set_index(\"userId\")[\"index\"]\n",
    "                      .to_dict()\n",
    "                )\n",
    "\n",
    "user_mappings_reverse = {value:key for key, value in user_mappings.items()}\n",
    "movie_mappings_reverse = {value:key for key, value in movie_mappings.items()}\n",
    "\n",
    "with open(\"data/movie_mappings.json\", \"w\") as movie_file:\n",
    "    json.dump(movie_mappings, movie_file, sort_keys=True, indent=4, separators=(',\\n', ': '))\n",
    "\n",
    "with open(\"data/user_mappings.json\", \"w\") as user_file:\n",
    "    json.dump(user_mappings, user_file, sort_keys=True, indent=4, separators=(',\\n', ': '))\n",
    "\n",
    "print(\"User and Movie Mappings Created and Saved\")"
   ]
  },
  {
   "cell_type": "markdown",
   "metadata": {},
   "source": [
    "# Preparing Data"
   ]
  },
  {
   "cell_type": "code",
   "execution_count": null,
   "metadata": {},
   "outputs": [],
   "source": [
    "# Apply Mappings\n",
    "ratings_df[\"movieId\"] = ratings_df[\"movieId\"].replace(movie_mappings)\n",
    "ratings_df[\"userId\"] = ratings_df[\"userId\"].replace(user_mappings)\n",
    "\n",
    "# Change Type for efficiency\n",
    "ratings_df[\"movieId\"] = ratings_df[\"movieId\"].astype(\"uint16\")\n",
    "ratings_df[\"userId\"] = ratings_df[\"userId\"].astype(\"uint16\")\n",
    "ratings_df[\"rating\"] = ratings_df[\"rating\"].astype(\"int8\")\n",
    "\n",
    "# Remove duplicates\n",
    "unique_indexes = ratings_df.drop(\"timestamp\", axis=1).drop_duplicates(keep='last').index\n",
    "ratings_df = ratings_df.loc[unique_indexes]\n",
    "\n",
    "# Minimal ocurrencies\n",
    "votes_per_movie = ratings_df[[\"userId\", \"movieId\"]].groupby(\"movieId\").count()[\"userId\"]\n",
    "movies_with_minimal_rates = votes_per_movie[votes_per_movie > minimal_rates_per_movie].index\n",
    "ratings_df = ratings_df[ratings_df[\"movieId\"].isin(movies_with_minimal_rates)]\n",
    "\n",
    "# Save Dataset\n",
    "ratings_df.to_csv(\"data/watch_this_dataset.csv\", index=False)\n",
    "\n",
    "print(\"Data Ready and Saved\")"
   ]
  },
  {
   "cell_type": "markdown",
   "metadata": {},
   "source": [
    "# Pivot Matrix"
   ]
  },
  {
   "cell_type": "code",
   "execution_count": null,
   "metadata": {},
   "outputs": [],
   "source": [
    "ratings_df = ratings_df.loc[ratings_df[[\"userId\", \"movieId\"]].drop_duplicates().index]\n",
    "ratings_sparse = ratings_df.pivot(index='userId', columns='movieId', values='rating')\n",
    "ratings_sparse"
   ]
  },
  {
   "cell_type": "code",
   "execution_count": null,
   "metadata": {},
   "outputs": [],
   "source": [
    "print(ratings_df.info(memory_usage=\"deep\"))"
   ]
  },
  {
   "cell_type": "code",
   "execution_count": null,
   "metadata": {},
   "outputs": [],
   "source": [
    "def stochastic_gradient_descent_l2(X_, alpha=0.01, lambda_=0.14, num_epochs=50, mini_batch_size=1, r=None, seed=42):\n",
    "    \n",
    "    # Pandas DataFrame to NumPy\n",
    "    X = X_.to_numpy()\n",
    "\n",
    "    if r is None:\n",
    "        r = X.shape[1]\n",
    "    \n",
    "    np.random.seed(seed)\n",
    "    \n",
    "    # Initialize p and q\n",
    "    variance = 0.1    \n",
    "    p = np.random.normal(0, variance, (X.shape[0], r))\n",
    "    q = np.random.normal(0, variance, (X.shape[1], r))\n",
    "    \n",
    "    train_rmses = []\n",
    "    \n",
    "    # Iterate only over non-nan indexes\n",
    "    non_nan_indexes = list(zip(*np.where(~np.isnan(X))))\n",
    "    \n",
    "    if mini_batch_size == 0:\n",
    "        mini_batch_size = len(non_nan_indexes) - 1\n",
    "    \n",
    "    for _ in range(num_epochs):\n",
    "        \n",
    "        # Stochastic part\n",
    "        np.random.shuffle(non_nan_indexes)\n",
    "        \n",
    "        # Save p and q\n",
    "        p_new = p.copy()\n",
    "        q_new = q.copy()\n",
    "        \n",
    "        for index, (u, i) in enumerate(non_nan_indexes):\n",
    "            \n",
    "            # Update p and q every mini_batch_size iterations\n",
    "            if index % mini_batch_size == 0:\n",
    "                p = p_new.copy()\n",
    "                q = q_new.copy()\n",
    "            \n",
    "            # Update p and q new with L2 regularization derivatives\n",
    "            error = X[u][i] - np.dot(p[u], q[i]) \n",
    "            \n",
    "            p_new[u] += alpha * (error * q[i] - lambda_ * (2 * p[u])) / mini_batch_size\n",
    "            q_new[i] += alpha * (error * p[u] - lambda_ * (2 * q[i])) / mini_batch_size\n",
    "        \n",
    "        # Calculate RSME\n",
    "        rmse = np.sqrt(np.nanmean((X - p @ q.T) ** 2))\n",
    "        train_rmses.append(rmse)\n",
    "        \n",
    "    return p, q, train_rmses"
   ]
  },
  {
   "cell_type": "code",
   "execution_count": null,
   "metadata": {},
   "outputs": [],
   "source": [
    "def calc_rmse(train, test, p, q):\n",
    "    errors = []\n",
    "    \n",
    "    X_approx = p @ q.T\n",
    "    \n",
    "    for _, (user_, movie_, rating) in test[[\"userId\", \"movieId\", \"rating\"]].iterrows():\n",
    "        user_index = np.argmax(train.index == user_)\n",
    "        movie_index = np.argmax(train.columns == movie_)\n",
    "        error = rating - X_approx[user_index, movie_index]\n",
    "        errors.append(error)\n",
    "\n",
    "    errors = np.array(errors)\n",
    "    return np.sqrt(np.mean(errors ** 2))"
   ]
  },
  {
   "cell_type": "markdown",
   "metadata": {},
   "source": [
    "# Training on Data"
   ]
  },
  {
   "cell_type": "code",
   "execution_count": null,
   "metadata": {},
   "outputs": [],
   "source": [
    "print(\"Fitting the Model\")\n",
    "\n",
    "start_time = perf_counter()\n",
    "p, q, rmse_train = stochastic_gradient_descent_l2(ratings_sparse, **sgd_params)\n",
    "elapsed_time = perf_counter() - start_time\n",
    "\n",
    "p = np.round(p, 6)\n",
    "q = np.round(q, 6)\n",
    "\n",
    "print(f\"Model Fit successfully - RMSE on Data: {rmse_train[-1]:.2f} - Fitting Time: {elapsed_time:.2f}s\")\n",
    "\n",
    "with open(\"data/p_vector.json\", \"w\") as p_file:\n",
    "    json.dump(p.tolist(), p_file, sort_keys=True, indent=4, separators=(',\\n', ': '))\n",
    "\n",
    "with open(\"data/q_vector.json\", \"w\") as q_file:\n",
    "    json.dump(q.tolist(), q_file, sort_keys=True, indent=4, separators=(',\\n', ': '))\n",
    "\n",
    "print(\"Parameters Saved\")"
   ]
  },
  {
   "cell_type": "markdown",
   "metadata": {},
   "source": [
    "# Predictions"
   ]
  },
  {
   "cell_type": "code",
   "execution_count": null,
   "metadata": {},
   "outputs": [],
   "source": [
    "X_approx = p @ q.T\n",
    "predictions = pd.DataFrame(X_approx)\n",
    "\n",
    "predictions_replaced = predictions.rename(user_mappings_reverse).rename(movie_mappings_reverse, axis=1)\n",
    "predictions_replaced"
   ]
  },
  {
   "cell_type": "markdown",
   "metadata": {},
   "source": [
    "# Save Prediction Matrix"
   ]
  },
  {
   "cell_type": "code",
   "execution_count": null,
   "metadata": {},
   "outputs": [],
   "source": [
    "minimum = predictions_replaced.min().min()\n",
    "maximum = predictions_replaced.max().max()\n",
    "\n",
    "scaled = predictions_replaced - minimum\n",
    "scaled /= maximum - minimum\n",
    "\n",
    "scaled *= (original_maximum - original_minimum)\n",
    "scaled += original_minimum\n",
    "scaled.min().min(), scaled.max().max()\n",
    "\n",
    "scaled.round(3).to_csv(\"data/predictions_matrix.csv\")"
   ]
  },
  {
   "cell_type": "markdown",
   "metadata": {},
   "source": [
    "# Recommendations"
   ]
  },
  {
   "cell_type": "code",
   "execution_count": null,
   "metadata": {},
   "outputs": [],
   "source": [
    "print(\"Computing Best Recommendations for Every User\")\n",
    "start_time = perf_counter()\n",
    "\n",
    "recommendations = {}\n",
    "\n",
    "for user, movies in predictions_replaced.iterrows():\n",
    "    watched_movies = set(ratings_df[ratings_df[\"userId\"] == user][\"movieId\"])\n",
    "    \n",
    "    predicted_recommendations = np.argsort(movies)[::-1]\n",
    "    \n",
    "    user_recommendations = predicted_recommendations[~predicted_recommendations.isin(watched_movies)]\n",
    "    \n",
    "    recommendations[user] = list(user_recommendations[:10].replace(movie_mappings_reverse))\n",
    "\n",
    "elapsed_time = perf_counter() - start_time\n",
    "print(f\"Recommendations Computed - Computation Time: {elapsed_time:.3f}s\")"
   ]
  },
  {
   "cell_type": "code",
   "execution_count": null,
   "metadata": {},
   "outputs": [],
   "source": [
    "with open(\"data/recommendations.json\", \"w\") as recommendations_file:\n",
    "    json.dump(recommendations, recommendations_file, sort_keys=True, indent=4, separators=(',\\n', ': '))\n",
    "\n",
    "print(\"Recommendations Saved\")"
   ]
  },
  {
   "cell_type": "markdown",
   "metadata": {},
   "source": [
    "# Suggestions"
   ]
  },
  {
   "cell_type": "code",
   "execution_count": null,
   "metadata": {},
   "outputs": [],
   "source": [
    "print(\"Computing Suggestion to Rate for Every User\")\n",
    "start_time = perf_counter()\n",
    "\n",
    "suggestions = {}\n",
    "\n",
    "for user, movies in predictions_replaced.iterrows():\n",
    "    watched_movies = set(ratings_df[ratings_df[\"userId\"] == user][\"movieId\"])\n",
    "    \n",
    "    predicted_suggestions = np.argsort(np.abs(movies))\n",
    "    \n",
    "    user_suggestions = predicted_suggestions[~predicted_suggestions.isin(watched_movies)]\n",
    "    \n",
    "    suggestions[user] = list(user_suggestions[:10].replace(movie_mappings_reverse))\n",
    "\n",
    "elapsed_time = perf_counter() - start_time\n",
    "print(f\"Suggestions Computed - Computation Time: {elapsed_time:.3f}s\")"
   ]
  },
  {
   "cell_type": "code",
   "execution_count": null,
   "metadata": {},
   "outputs": [],
   "source": [
    "with open(\"data/suggestions.json\", \"w\") as suggestions_file:\n",
    "    json.dump(suggestions, suggestions_file, sort_keys=True, indent=4, separators=(',\\n', ': '))\n",
    "\n",
    "print(\"Suggestions Saved\")"
   ]
  },
  {
   "cell_type": "code",
   "execution_count": null,
   "metadata": {},
   "outputs": [],
   "source": []
  }
 ],
 "metadata": {
  "kernelspec": {
   "display_name": "Python 3",
   "language": "python",
   "name": "python3"
  },
  "language_info": {
   "codemirror_mode": {
    "name": "ipython",
    "version": 3
   },
   "file_extension": ".py",
   "mimetype": "text/x-python",
   "name": "python",
   "nbconvert_exporter": "python",
   "pygments_lexer": "ipython3",
   "version": "3.8.5"
  }
 },
 "nbformat": 4,
 "nbformat_minor": 4
}
