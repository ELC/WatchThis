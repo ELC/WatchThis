{
 "cells": [
  {
   "cell_type": "code",
   "execution_count": 3,
   "metadata": {},
   "outputs": [],
   "source": [
    "import os\n",
    "import random\n",
    "\n",
    "import pandas as pd\n",
    "import requests"
   ]
  },
  {
   "cell_type": "markdown",
   "metadata": {},
   "source": [
    "# Download Necessary Files"
   ]
  },
  {
   "cell_type": "code",
   "execution_count": 4,
   "metadata": {},
   "outputs": [],
   "source": [
    "required_files = [\"title.ratings.tsv.gz\", \"title.basics.tsv.gz\"]\n",
    "\n",
    "for file in required_files:\n",
    "    if os.path.isfile(file):\n",
    "        continue\n",
    "    \n",
    "    file_downloaded = requests.get(f\"https://datasets.imdbws.com/{file}\", allow_redirects=True)\n",
    "    with open(file, 'wb') as new_file:\n",
    "        new_file.write(file_downloaded.content)    "
   ]
  },
  {
   "cell_type": "markdown",
   "metadata": {},
   "source": [
    "# Read Movie Ratings"
   ]
  },
  {
   "cell_type": "code",
   "execution_count": 11,
   "metadata": {},
   "outputs": [],
   "source": [
    "movie_df = pd.read_csv(\"title.ratings.tsv.gz\", delimiter=\"\\t\", low_memory=False)"
   ]
  },
  {
   "cell_type": "code",
   "execution_count": 23,
   "metadata": {},
   "outputs": [
    {
     "data": {
      "text/html": [
       "<div>\n",
       "<style scoped>\n",
       "    .dataframe tbody tr th:only-of-type {\n",
       "        vertical-align: middle;\n",
       "    }\n",
       "\n",
       "    .dataframe tbody tr th {\n",
       "        vertical-align: top;\n",
       "    }\n",
       "\n",
       "    .dataframe thead th {\n",
       "        text-align: right;\n",
       "    }\n",
       "</style>\n",
       "<table border=\"1\" class=\"dataframe\">\n",
       "  <thead>\n",
       "    <tr style=\"text-align: right;\">\n",
       "      <th></th>\n",
       "      <th>tconst</th>\n",
       "      <th>averageRating</th>\n",
       "      <th>numVotes</th>\n",
       "    </tr>\n",
       "  </thead>\n",
       "  <tbody>\n",
       "    <tr>\n",
       "      <th>414055</th>\n",
       "      <td>tt0903747</td>\n",
       "      <td>9.5</td>\n",
       "      <td>1444369</td>\n",
       "    </tr>\n",
       "    <tr>\n",
       "      <th>1022193</th>\n",
       "      <td>tt7366338</td>\n",
       "      <td>9.4</td>\n",
       "      <td>528380</td>\n",
       "    </tr>\n",
       "    <tr>\n",
       "      <th>81859</th>\n",
       "      <td>tt0111161</td>\n",
       "      <td>9.3</td>\n",
       "      <td>2330926</td>\n",
       "    </tr>\n",
       "    <tr>\n",
       "      <th>423954</th>\n",
       "      <td>tt0944947</td>\n",
       "      <td>9.3</td>\n",
       "      <td>1751938</td>\n",
       "    </tr>\n",
       "    <tr>\n",
       "      <th>45772</th>\n",
       "      <td>tt0068646</td>\n",
       "      <td>9.2</td>\n",
       "      <td>1611141</td>\n",
       "    </tr>\n",
       "    <tr>\n",
       "      <th>601971</th>\n",
       "      <td>tt1475582</td>\n",
       "      <td>9.1</td>\n",
       "      <td>799630</td>\n",
       "    </tr>\n",
       "    <tr>\n",
       "      <th>48300</th>\n",
       "      <td>tt0071562</td>\n",
       "      <td>9.0</td>\n",
       "      <td>1124518</td>\n",
       "    </tr>\n",
       "    <tr>\n",
       "      <th>29728</th>\n",
       "      <td>tt0050083</td>\n",
       "      <td>9.0</td>\n",
       "      <td>686161</td>\n",
       "    </tr>\n",
       "    <tr>\n",
       "      <th>246260</th>\n",
       "      <td>tt0468569</td>\n",
       "      <td>9.0</td>\n",
       "      <td>2292480</td>\n",
       "    </tr>\n",
       "    <tr>\n",
       "      <th>79877</th>\n",
       "      <td>tt0108778</td>\n",
       "      <td>8.9</td>\n",
       "      <td>816664</td>\n",
       "    </tr>\n",
       "    <tr>\n",
       "      <th>79296</th>\n",
       "      <td>tt0108052</td>\n",
       "      <td>8.9</td>\n",
       "      <td>1208230</td>\n",
       "    </tr>\n",
       "    <tr>\n",
       "      <th>81643</th>\n",
       "      <td>tt0110912</td>\n",
       "      <td>8.9</td>\n",
       "      <td>1817950</td>\n",
       "    </tr>\n",
       "    <tr>\n",
       "      <th>112996</th>\n",
       "      <td>tt0167260</td>\n",
       "      <td>8.9</td>\n",
       "      <td>1635871</td>\n",
       "    </tr>\n",
       "    <tr>\n",
       "      <th>38520</th>\n",
       "      <td>tt0060196</td>\n",
       "      <td>8.8</td>\n",
       "      <td>685514</td>\n",
       "    </tr>\n",
       "    <tr>\n",
       "      <th>89630</th>\n",
       "      <td>tt0120737</td>\n",
       "      <td>8.8</td>\n",
       "      <td>1653243</td>\n",
       "    </tr>\n",
       "    <tr>\n",
       "      <th>583979</th>\n",
       "      <td>tt1375666</td>\n",
       "      <td>8.8</td>\n",
       "      <td>2056390</td>\n",
       "    </tr>\n",
       "    <tr>\n",
       "      <th>98155</th>\n",
       "      <td>tt0137523</td>\n",
       "      <td>8.8</td>\n",
       "      <td>1846156</td>\n",
       "    </tr>\n",
       "    <tr>\n",
       "      <th>80770</th>\n",
       "      <td>tt0109830</td>\n",
       "      <td>8.8</td>\n",
       "      <td>1799434</td>\n",
       "    </tr>\n",
       "    <tr>\n",
       "      <th>72380</th>\n",
       "      <td>tt0099685</td>\n",
       "      <td>8.7</td>\n",
       "      <td>1015183</td>\n",
       "    </tr>\n",
       "    <tr>\n",
       "      <th>112997</th>\n",
       "      <td>tt0167261</td>\n",
       "      <td>8.7</td>\n",
       "      <td>1479204</td>\n",
       "    </tr>\n",
       "  </tbody>\n",
       "</table>\n",
       "</div>"
      ],
      "text/plain": [
       "            tconst  averageRating  numVotes\n",
       "414055   tt0903747            9.5   1444369\n",
       "1022193  tt7366338            9.4    528380\n",
       "81859    tt0111161            9.3   2330926\n",
       "423954   tt0944947            9.3   1751938\n",
       "45772    tt0068646            9.2   1611141\n",
       "601971   tt1475582            9.1    799630\n",
       "48300    tt0071562            9.0   1124518\n",
       "29728    tt0050083            9.0    686161\n",
       "246260   tt0468569            9.0   2292480\n",
       "79877    tt0108778            8.9    816664\n",
       "79296    tt0108052            8.9   1208230\n",
       "81643    tt0110912            8.9   1817950\n",
       "112996   tt0167260            8.9   1635871\n",
       "38520    tt0060196            8.8    685514\n",
       "89630    tt0120737            8.8   1653243\n",
       "583979   tt1375666            8.8   2056390\n",
       "98155    tt0137523            8.8   1846156\n",
       "80770    tt0109830            8.8   1799434\n",
       "72380    tt0099685            8.7   1015183\n",
       "112997   tt0167261            8.7   1479204"
      ]
     },
     "execution_count": 23,
     "metadata": {},
     "output_type": "execute_result"
    }
   ],
   "source": [
    "movie_df[movie_df[\"numVotes\"] >= 500000].sort_values(by=\"averageRating\", ascending=False)[:20]"
   ]
  },
  {
   "cell_type": "code",
   "execution_count": 8,
   "metadata": {},
   "outputs": [],
   "source": [
    "movie_df_ = pd.read_csv(\"title.ratings.tsv.gz\", delimiter=\"\\t\", low_memory=False)"
   ]
  },
  {
   "cell_type": "code",
   "execution_count": 10,
   "metadata": {},
   "outputs": [],
   "source": [
    "movie_df = movie_df_.copy()\n",
    "movie_df = movie_df.sort_values(by=\"numVotes\", ascending=False).iloc[:300]\n",
    "movie_df = movie_df[movie_df[\"averageRating\"] >= 7.0]\n",
    "movie_df = movie_df.drop([\"numVotes\", \"averageRating\"], axis=1)\n",
    "movie_df = movie_df.set_index('tconst')"
   ]
  },
  {
   "cell_type": "markdown",
   "metadata": {},
   "source": [
    "# Read Movie Metadata"
   ]
  },
  {
   "cell_type": "code",
   "execution_count": null,
   "metadata": {},
   "outputs": [],
   "source": [
    "extra_data_ = pd.read_csv(\"title.basics.tsv.gz\", delimiter=\"\\t\", low_memory=False)"
   ]
  },
  {
   "cell_type": "code",
   "execution_count": 72,
   "metadata": {},
   "outputs": [],
   "source": [
    "extra_data = extra_data_.copy()\n",
    "extra_data = extra_data.set_index('tconst')\n",
    "extra_data = extra_data.loc[movie_df.index]\n",
    "extra_data = extra_data[extra_data[\"isAdult\"] == \"0\"]\n",
    "extra_data = extra_data[extra_data[\"titleType\"] == 'movie']\n",
    "extra_data = extra_data[[\"startYear\", \"runtimeMinutes\", \"primaryTitle\"]]"
   ]
  },
  {
   "cell_type": "markdown",
   "metadata": {},
   "source": [
    "# Filtering"
   ]
  },
  {
   "cell_type": "code",
   "execution_count": 64,
   "metadata": {},
   "outputs": [],
   "source": [
    "extra_data = extra_data[(extra_data != '\\\\N').all(axis=1)]\n",
    "extra_data = extra_data[extra_data[\"runtimeMinutes\"].astype(int) > 70]\n",
    "extra_data = extra_data.drop(\"runtimeMinutes\", axis=1)\n",
    "extra_data = extra_data[extra_data[\"startYear\"].astype(int) > 1995]\n",
    "extra_data[\"movieID\"] = extra_data.index"
   ]
  },
  {
   "cell_type": "markdown",
   "metadata": {},
   "source": [
    "# Add Poster URL with OMDB API"
   ]
  },
  {
   "cell_type": "code",
   "execution_count": 55,
   "metadata": {},
   "outputs": [
    {
     "ename": "KeyError",
     "evalue": "'poster_url'",
     "output_type": "error",
     "traceback": [
      "\u001b[1;31m---------------------------------------------------------------------------\u001b[0m",
      "\u001b[1;31mKeyError\u001b[0m                                  Traceback (most recent call last)",
      "\u001b[1;32m~\\anaconda3\\lib\\site-packages\\pandas\\core\\indexes\\base.py\u001b[0m in \u001b[0;36mget_loc\u001b[1;34m(self, key, method, tolerance)\u001b[0m\n\u001b[0;32m   2894\u001b[0m             \u001b[1;32mtry\u001b[0m\u001b[1;33m:\u001b[0m\u001b[1;33m\u001b[0m\u001b[1;33m\u001b[0m\u001b[0m\n\u001b[1;32m-> 2895\u001b[1;33m                 \u001b[1;32mreturn\u001b[0m \u001b[0mself\u001b[0m\u001b[1;33m.\u001b[0m\u001b[0m_engine\u001b[0m\u001b[1;33m.\u001b[0m\u001b[0mget_loc\u001b[0m\u001b[1;33m(\u001b[0m\u001b[0mcasted_key\u001b[0m\u001b[1;33m)\u001b[0m\u001b[1;33m\u001b[0m\u001b[1;33m\u001b[0m\u001b[0m\n\u001b[0m\u001b[0;32m   2896\u001b[0m             \u001b[1;32mexcept\u001b[0m \u001b[0mKeyError\u001b[0m \u001b[1;32mas\u001b[0m \u001b[0merr\u001b[0m\u001b[1;33m:\u001b[0m\u001b[1;33m\u001b[0m\u001b[1;33m\u001b[0m\u001b[0m\n",
      "\u001b[1;32mpandas\\_libs\\index.pyx\u001b[0m in \u001b[0;36mpandas._libs.index.IndexEngine.get_loc\u001b[1;34m()\u001b[0m\n",
      "\u001b[1;32mpandas\\_libs\\index.pyx\u001b[0m in \u001b[0;36mpandas._libs.index.IndexEngine.get_loc\u001b[1;34m()\u001b[0m\n",
      "\u001b[1;32mpandas\\_libs\\hashtable_class_helper.pxi\u001b[0m in \u001b[0;36mpandas._libs.hashtable.PyObjectHashTable.get_item\u001b[1;34m()\u001b[0m\n",
      "\u001b[1;32mpandas\\_libs\\hashtable_class_helper.pxi\u001b[0m in \u001b[0;36mpandas._libs.hashtable.PyObjectHashTable.get_item\u001b[1;34m()\u001b[0m\n",
      "\u001b[1;31mKeyError\u001b[0m: 'poster_url'",
      "\nThe above exception was the direct cause of the following exception:\n",
      "\u001b[1;31mKeyError\u001b[0m                                  Traceback (most recent call last)",
      "\u001b[1;32m<ipython-input-55-6e495c98b81d>\u001b[0m in \u001b[0;36m<module>\u001b[1;34m\u001b[0m\n\u001b[0;32m     10\u001b[0m     \u001b[0mposter_urls\u001b[0m\u001b[1;33m.\u001b[0m\u001b[0mappend\u001b[0m\u001b[1;33m(\u001b[0m\u001b[0mposter_url\u001b[0m\u001b[1;33m)\u001b[0m\u001b[1;33m\u001b[0m\u001b[1;33m\u001b[0m\u001b[0m\n\u001b[0;32m     11\u001b[0m \u001b[1;33m\u001b[0m\u001b[0m\n\u001b[1;32m---> 12\u001b[1;33m \u001b[0mextra_data\u001b[0m\u001b[1;33m[\u001b[0m\u001b[1;34m\"poster_url\"\u001b[0m\u001b[1;33m]\u001b[0m\u001b[1;33m\u001b[0m\u001b[1;33m\u001b[0m\u001b[0m\n\u001b[0m",
      "\u001b[1;32m~\\anaconda3\\lib\\site-packages\\pandas\\core\\frame.py\u001b[0m in \u001b[0;36m__getitem__\u001b[1;34m(self, key)\u001b[0m\n\u001b[0;32m   2900\u001b[0m             \u001b[1;32mif\u001b[0m \u001b[0mself\u001b[0m\u001b[1;33m.\u001b[0m\u001b[0mcolumns\u001b[0m\u001b[1;33m.\u001b[0m\u001b[0mnlevels\u001b[0m \u001b[1;33m>\u001b[0m \u001b[1;36m1\u001b[0m\u001b[1;33m:\u001b[0m\u001b[1;33m\u001b[0m\u001b[1;33m\u001b[0m\u001b[0m\n\u001b[0;32m   2901\u001b[0m                 \u001b[1;32mreturn\u001b[0m \u001b[0mself\u001b[0m\u001b[1;33m.\u001b[0m\u001b[0m_getitem_multilevel\u001b[0m\u001b[1;33m(\u001b[0m\u001b[0mkey\u001b[0m\u001b[1;33m)\u001b[0m\u001b[1;33m\u001b[0m\u001b[1;33m\u001b[0m\u001b[0m\n\u001b[1;32m-> 2902\u001b[1;33m             \u001b[0mindexer\u001b[0m \u001b[1;33m=\u001b[0m \u001b[0mself\u001b[0m\u001b[1;33m.\u001b[0m\u001b[0mcolumns\u001b[0m\u001b[1;33m.\u001b[0m\u001b[0mget_loc\u001b[0m\u001b[1;33m(\u001b[0m\u001b[0mkey\u001b[0m\u001b[1;33m)\u001b[0m\u001b[1;33m\u001b[0m\u001b[1;33m\u001b[0m\u001b[0m\n\u001b[0m\u001b[0;32m   2903\u001b[0m             \u001b[1;32mif\u001b[0m \u001b[0mis_integer\u001b[0m\u001b[1;33m(\u001b[0m\u001b[0mindexer\u001b[0m\u001b[1;33m)\u001b[0m\u001b[1;33m:\u001b[0m\u001b[1;33m\u001b[0m\u001b[1;33m\u001b[0m\u001b[0m\n\u001b[0;32m   2904\u001b[0m                 \u001b[0mindexer\u001b[0m \u001b[1;33m=\u001b[0m \u001b[1;33m[\u001b[0m\u001b[0mindexer\u001b[0m\u001b[1;33m]\u001b[0m\u001b[1;33m\u001b[0m\u001b[1;33m\u001b[0m\u001b[0m\n",
      "\u001b[1;32m~\\anaconda3\\lib\\site-packages\\pandas\\core\\indexes\\base.py\u001b[0m in \u001b[0;36mget_loc\u001b[1;34m(self, key, method, tolerance)\u001b[0m\n\u001b[0;32m   2895\u001b[0m                 \u001b[1;32mreturn\u001b[0m \u001b[0mself\u001b[0m\u001b[1;33m.\u001b[0m\u001b[0m_engine\u001b[0m\u001b[1;33m.\u001b[0m\u001b[0mget_loc\u001b[0m\u001b[1;33m(\u001b[0m\u001b[0mcasted_key\u001b[0m\u001b[1;33m)\u001b[0m\u001b[1;33m\u001b[0m\u001b[1;33m\u001b[0m\u001b[0m\n\u001b[0;32m   2896\u001b[0m             \u001b[1;32mexcept\u001b[0m \u001b[0mKeyError\u001b[0m \u001b[1;32mas\u001b[0m \u001b[0merr\u001b[0m\u001b[1;33m:\u001b[0m\u001b[1;33m\u001b[0m\u001b[1;33m\u001b[0m\u001b[0m\n\u001b[1;32m-> 2897\u001b[1;33m                 \u001b[1;32mraise\u001b[0m \u001b[0mKeyError\u001b[0m\u001b[1;33m(\u001b[0m\u001b[0mkey\u001b[0m\u001b[1;33m)\u001b[0m \u001b[1;32mfrom\u001b[0m \u001b[0merr\u001b[0m\u001b[1;33m\u001b[0m\u001b[1;33m\u001b[0m\u001b[0m\n\u001b[0m\u001b[0;32m   2898\u001b[0m \u001b[1;33m\u001b[0m\u001b[0m\n\u001b[0;32m   2899\u001b[0m         \u001b[1;32mif\u001b[0m \u001b[0mtolerance\u001b[0m \u001b[1;32mis\u001b[0m \u001b[1;32mnot\u001b[0m \u001b[1;32mNone\u001b[0m\u001b[1;33m:\u001b[0m\u001b[1;33m\u001b[0m\u001b[1;33m\u001b[0m\u001b[0m\n",
      "\u001b[1;31mKeyError\u001b[0m: 'poster_url'"
     ]
    }
   ],
   "source": [
    "poster_urls = []\n",
    "\n",
    "apikeys = [\"fcbcfdd4\", \"354ba942\"]\n",
    "\n",
    "for movie_id in extra_data.index:\n",
    "    apikey = random.choice(apikeys)\n",
    "    response = requests.get(f'http://omdbapi.com/?apikey={apikey}&i={movie_id}')\n",
    "    poster_url = response.json()['Poster']\n",
    "    poster_url = poster_url.replace(\"300.jpg\", \"500.jpg\")\n",
    "    poster_urls.append(poster_url)\n",
    "\n",
    "extra_data[\"poster_url\"] = poster_urls"
   ]
  },
  {
   "cell_type": "markdown",
   "metadata": {},
   "source": [
    "# Export Data as JSON"
   ]
  },
  {
   "cell_type": "code",
   "execution_count": 98,
   "metadata": {},
   "outputs": [
    {
     "data": {
      "text/plain": [
       "('Dr. Strangelove or: How I Learned to Stop Worrying and Love the Bomb', 68)"
      ]
     },
     "execution_count": 98,
     "metadata": {},
     "output_type": "execute_result"
    }
   ],
   "source": [
    "longest_title = sorted(extra_data[\"primaryTitle\"].to_numpy(), key=len, reverse=True)[0]\n",
    "longest_title, len(longest_title)"
   ]
  },
  {
   "cell_type": "code",
   "execution_count": 73,
   "metadata": {},
   "outputs": [
    {
     "data": {
      "text/html": [
       "<div>\n",
       "<style scoped>\n",
       "    .dataframe tbody tr th:only-of-type {\n",
       "        vertical-align: middle;\n",
       "    }\n",
       "\n",
       "    .dataframe tbody tr th {\n",
       "        vertical-align: top;\n",
       "    }\n",
       "\n",
       "    .dataframe thead th {\n",
       "        text-align: right;\n",
       "    }\n",
       "</style>\n",
       "<table border=\"1\" class=\"dataframe\">\n",
       "  <thead>\n",
       "    <tr style=\"text-align: right;\">\n",
       "      <th></th>\n",
       "      <th>startYear</th>\n",
       "      <th>runtimeMinutes</th>\n",
       "      <th>primaryTitle</th>\n",
       "    </tr>\n",
       "    <tr>\n",
       "      <th>tconst</th>\n",
       "      <th></th>\n",
       "      <th></th>\n",
       "      <th></th>\n",
       "    </tr>\n",
       "  </thead>\n",
       "  <tbody>\n",
       "    <tr>\n",
       "      <th>tt0111161</th>\n",
       "      <td>1994</td>\n",
       "      <td>142</td>\n",
       "      <td>The Shawshank Redemption</td>\n",
       "    </tr>\n",
       "    <tr>\n",
       "      <th>tt0468569</th>\n",
       "      <td>2008</td>\n",
       "      <td>152</td>\n",
       "      <td>The Dark Knight</td>\n",
       "    </tr>\n",
       "    <tr>\n",
       "      <th>tt1375666</th>\n",
       "      <td>2010</td>\n",
       "      <td>148</td>\n",
       "      <td>Inception</td>\n",
       "    </tr>\n",
       "    <tr>\n",
       "      <th>tt0137523</th>\n",
       "      <td>1999</td>\n",
       "      <td>139</td>\n",
       "      <td>Fight Club</td>\n",
       "    </tr>\n",
       "    <tr>\n",
       "      <th>tt0110912</th>\n",
       "      <td>1994</td>\n",
       "      <td>154</td>\n",
       "      <td>Pulp Fiction</td>\n",
       "    </tr>\n",
       "    <tr>\n",
       "      <th>...</th>\n",
       "      <td>...</td>\n",
       "      <td>...</td>\n",
       "      <td>...</td>\n",
       "    </tr>\n",
       "    <tr>\n",
       "      <th>tt0790636</th>\n",
       "      <td>2013</td>\n",
       "      <td>117</td>\n",
       "      <td>Dallas Buyers Club</td>\n",
       "    </tr>\n",
       "    <tr>\n",
       "      <th>tt0449059</th>\n",
       "      <td>2006</td>\n",
       "      <td>101</td>\n",
       "      <td>Little Miss Sunshine</td>\n",
       "    </tr>\n",
       "    <tr>\n",
       "      <th>tt2179136</th>\n",
       "      <td>2014</td>\n",
       "      <td>133</td>\n",
       "      <td>American Sniper</td>\n",
       "    </tr>\n",
       "    <tr>\n",
       "      <th>tt3890160</th>\n",
       "      <td>2017</td>\n",
       "      <td>113</td>\n",
       "      <td>Baby Driver</td>\n",
       "    </tr>\n",
       "    <tr>\n",
       "      <th>tt0314331</th>\n",
       "      <td>2003</td>\n",
       "      <td>135</td>\n",
       "      <td>Love Actually</td>\n",
       "    </tr>\n",
       "  </tbody>\n",
       "</table>\n",
       "<p>266 rows × 3 columns</p>\n",
       "</div>"
      ],
      "text/plain": [
       "          startYear runtimeMinutes              primaryTitle\n",
       "tconst                                                      \n",
       "tt0111161      1994            142  The Shawshank Redemption\n",
       "tt0468569      2008            152           The Dark Knight\n",
       "tt1375666      2010            148                 Inception\n",
       "tt0137523      1999            139                Fight Club\n",
       "tt0110912      1994            154              Pulp Fiction\n",
       "...             ...            ...                       ...\n",
       "tt0790636      2013            117        Dallas Buyers Club\n",
       "tt0449059      2006            101      Little Miss Sunshine\n",
       "tt2179136      2014            133           American Sniper\n",
       "tt3890160      2017            113               Baby Driver\n",
       "tt0314331      2003            135             Love Actually\n",
       "\n",
       "[266 rows x 3 columns]"
      ]
     },
     "execution_count": 73,
     "metadata": {},
     "output_type": "execute_result"
    }
   ],
   "source": [
    "extra_data"
   ]
  },
  {
   "cell_type": "code",
   "execution_count": 68,
   "metadata": {},
   "outputs": [],
   "source": [
    "extra_data.to_json(\"top_movies.json\", orient=\"split\", index=False)"
   ]
  },
  {
   "cell_type": "markdown",
   "metadata": {},
   "source": [
    "# Libraries Used"
   ]
  },
  {
   "cell_type": "code",
   "execution_count": 8,
   "metadata": {},
   "outputs": [
    {
     "name": "stdout",
     "output_type": "stream",
     "text": [
      "Requirement already satisfied: watermark in c:\\users\\elcg\\anaconda3\\lib\\site-packages (2.1.0)\n",
      "Requirement already satisfied: ipython in c:\\users\\elcg\\anaconda3\\lib\\site-packages (from watermark) (7.19.0)\n",
      "Requirement already satisfied: backcall in c:\\users\\elcg\\anaconda3\\lib\\site-packages (from ipython->watermark) (0.2.0)\n",
      "Requirement already satisfied: prompt-toolkit!=3.0.0,!=3.0.1,<3.1.0,>=2.0.0 in c:\\users\\elcg\\anaconda3\\lib\\site-packages (from ipython->watermark) (3.0.8)\n",
      "Requirement already satisfied: pygments in c:\\users\\elcg\\anaconda3\\lib\\site-packages (from ipython->watermark) (2.7.2)\n",
      "Requirement already satisfied: setuptools>=18.5 in c:\\users\\elcg\\anaconda3\\lib\\site-packages (from ipython->watermark) (50.3.1.post20201107)\n",
      "Requirement already satisfied: pickleshare in c:\\users\\elcg\\anaconda3\\lib\\site-packages (from ipython->watermark) (0.7.5)\n",
      "Requirement already satisfied: jedi>=0.10 in c:\\users\\elcg\\anaconda3\\lib\\site-packages (from ipython->watermark) (0.17.1)\n",
      "Requirement already satisfied: colorama; sys_platform == \"win32\" in c:\\users\\elcg\\anaconda3\\lib\\site-packages (from ipython->watermark) (0.4.4)\n",
      "Requirement already satisfied: traitlets>=4.2 in c:\\users\\elcg\\anaconda3\\lib\\site-packages (from ipython->watermark) (5.0.5)\n",
      "Requirement already satisfied: decorator in c:\\users\\elcg\\anaconda3\\lib\\site-packages (from ipython->watermark) (4.4.2)\n",
      "Requirement already satisfied: wcwidth in c:\\users\\elcg\\anaconda3\\lib\\site-packages (from prompt-toolkit!=3.0.0,!=3.0.1,<3.1.0,>=2.0.0->ipython->watermark) (0.2.5)\n",
      "Requirement already satisfied: parso<0.8.0,>=0.7.0 in c:\\users\\elcg\\anaconda3\\lib\\site-packages (from jedi>=0.10->ipython->watermark) (0.7.0)\n",
      "Requirement already satisfied: ipython-genutils in c:\\users\\elcg\\anaconda3\\lib\\site-packages (from traitlets>=4.2->ipython->watermark) (0.2.0)\n"
     ]
    }
   ],
   "source": [
    "!pip install watermark;"
   ]
  },
  {
   "cell_type": "code",
   "execution_count": 9,
   "metadata": {},
   "outputs": [
    {
     "name": "stdout",
     "output_type": "stream",
     "text": [
      "Last updated: Mon Jan 11 2021\n",
      "\n",
      "Python implementation: CPython\n",
      "Python version       : 3.8.5\n",
      "IPython version      : 7.19.0\n",
      "\n",
      "pandas  : 1.1.3\n",
      "requests: 2.24.0\n",
      "\n",
      "Watermark: 2.1.0\n",
      "\n"
     ]
    }
   ],
   "source": [
    "%load_ext watermark\n",
    "%watermark -n -u -v -iv -w"
   ]
  }
 ],
 "metadata": {
  "kernelspec": {
   "display_name": "Python 3",
   "language": "python",
   "name": "python3"
  },
  "language_info": {
   "codemirror_mode": {
    "name": "ipython",
    "version": 3
   },
   "file_extension": ".py",
   "mimetype": "text/x-python",
   "name": "python",
   "nbconvert_exporter": "python",
   "pygments_lexer": "ipython3",
   "version": "3.8.5"
  }
 },
 "nbformat": 4,
 "nbformat_minor": 4
}
