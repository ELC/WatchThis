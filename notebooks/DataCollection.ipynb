{
 "cells": [
  {
   "cell_type": "code",
   "execution_count": null,
   "metadata": {},
   "outputs": [],
   "source": [
    "import os\n",
    "import random\n",
    "import json\n",
    "from itertools import cycle\n",
    "\n",
    "import pandas as pd\n",
    "import requests"
   ]
  },
  {
   "cell_type": "markdown",
   "metadata": {},
   "source": [
    "# Download Necessary Files"
   ]
  },
  {
   "cell_type": "code",
   "execution_count": null,
   "metadata": {},
   "outputs": [],
   "source": [
    "required_files = [\"title.ratings.tsv.gz\", \"title.basics.tsv.gz\"]\n",
    "\n",
    "for file in required_files:\n",
    "    if os.path.isfile(file):\n",
    "        continue\n",
    "    \n",
    "    file_downloaded = requests.get(f\"https://datasets.imdbws.com/{file}\", allow_redirects=True)\n",
    "    with open(file, 'wb') as new_file:\n",
    "        new_file.write(file_downloaded.content)    "
   ]
  },
  {
   "cell_type": "markdown",
   "metadata": {},
   "source": [
    "# Read Movie Ratings"
   ]
  },
  {
   "cell_type": "code",
   "execution_count": null,
   "metadata": {},
   "outputs": [],
   "source": [
    "movies_ = pd.read_csv(\"title.ratings.tsv.gz\", delimiter=\"\\t\", low_memory=False)\n",
    "extra_data_ = pd.read_csv(\"title.basics.tsv.gz\", delimiter=\"\\t\", low_memory=False)"
   ]
  },
  {
   "cell_type": "code",
   "execution_count": null,
   "metadata": {},
   "outputs": [],
   "source": [
    "movies = movies_.copy()\n",
    "extra_data = extra_data_.copy().set_index('tconst')"
   ]
  },
  {
   "cell_type": "markdown",
   "metadata": {},
   "source": [
    "# Auxiliary Functions"
   ]
  },
  {
   "cell_type": "code",
   "execution_count": null,
   "metadata": {},
   "outputs": [],
   "source": [
    "def filter_movies(movies, votes, average_rate):\n",
    "    filtered_movies = movies.copy()\n",
    "    filtered_movies = filtered_movies[filtered_movies[\"numVotes\"] >= votes]\n",
    "    filtered_movies = filtered_movies[filtered_movies[\"averageRating\"] >= average_rate]\n",
    "    filtered_movies = filtered_movies.drop([\"numVotes\", \"averageRating\"], axis=1)\n",
    "    filtered_movies = filtered_movies.set_index('tconst')\n",
    "    return filtered_movies"
   ]
  },
  {
   "cell_type": "code",
   "execution_count": null,
   "metadata": {},
   "outputs": [],
   "source": [
    "def remove_unpopular(movies_):\n",
    "    movies = movies_.copy()\n",
    "    movies = movies[movies[\"isAdult\"] == \"0\"]\n",
    "    movies = movies[movies[\"titleType\"] == 'movie']\n",
    "    movies = movies[[\"startYear\", \"runtimeMinutes\", \"primaryTitle\"]]\n",
    "    return movies"
   ]
  },
  {
   "cell_type": "code",
   "execution_count": null,
   "metadata": {},
   "outputs": [],
   "source": [
    "def clean_movies(movies_):\n",
    "    movies = movies_.copy()\n",
    "    movies = movies[(movies != '\\\\N').all(axis=1)]\n",
    "    movies = movies[movies[\"runtimeMinutes\"].astype(int) > 70]\n",
    "    movies = movies.drop(\"runtimeMinutes\", axis=1)\n",
    "    movies = movies[movies[\"startYear\"].astype(int) > 1995]\n",
    "    movies[\"movieID\"] = movies.index\n",
    "    return movies"
   ]
  },
  {
   "cell_type": "code",
   "execution_count": null,
   "metadata": {},
   "outputs": [],
   "source": [
    "def create_level(movies_, extra_data_, votes, average_rate):\n",
    "    movies = movies_.copy()\n",
    "    extra_data = extra_data_.copy()\n",
    "    \n",
    "    level = filter_movies(movies, votes=votes, average_rate=average_rate)\n",
    "    level = extra_data.loc[level.index]\n",
    "    level = remove_unpopular(level)\n",
    "    level = clean_movies(level)\n",
    "    \n",
    "    return level"
   ]
  },
  {
   "cell_type": "markdown",
   "metadata": {},
   "source": [
    "# Create Level Datasets"
   ]
  },
  {
   "cell_type": "code",
   "execution_count": null,
   "metadata": {},
   "outputs": [],
   "source": [
    "level0_movies = create_level(movies, extra_data, votes=250000, average_rate=8.0)\n",
    "level1_movies = create_level(movies, extra_data, votes=250000, average_rate=7.5)\n",
    "level2_movies = create_level(movies, extra_data, votes=100000, average_rate=7.5)\n",
    "level3_movies = create_level(movies, extra_data, votes=75000, average_rate=7.0)\n",
    "level4_movies = create_level(movies, extra_data, votes=25000, average_rate=7.0)\n",
    "\n",
    "len(level0_movies), len(level1_movies), len(level2_movies), len(level3_movies), len(level4_movies)"
   ]
  },
  {
   "cell_type": "markdown",
   "metadata": {},
   "source": [
    "# Check Longest Movie Title"
   ]
  },
  {
   "cell_type": "code",
   "execution_count": null,
   "metadata": {},
   "outputs": [],
   "source": [
    "longest_title = sorted(level4_movies[\"primaryTitle\"].to_numpy(), key=len, reverse=True)[0]\n",
    "longest_title, len(longest_title)"
   ]
  },
  {
   "cell_type": "markdown",
   "metadata": {},
   "source": [
    "# Add Poster URL with OMDB API"
   ]
  },
  {
   "cell_type": "code",
   "execution_count": null,
   "metadata": {},
   "outputs": [],
   "source": [
    "def add_posters(movies_):\n",
    "    movies = movies_.copy()\n",
    "    \n",
    "    apikeys = [\"fcbcfdd4\", \"354ba942\"]\n",
    "\n",
    "    with open(\"top_movies_level4.json\", \"r\") as dataset_file:\n",
    "        movie_database = json.load(dataset_file)[\"data\"]\n",
    "        \n",
    "    movie_posters = {movie[2]:movie[3] for movie in movie_database}\n",
    "    \n",
    "    index_cycle = cycle(list(range(len(apikeys))))\n",
    "    api_index = next(index_cycle)\n",
    "    \n",
    "    poster_urls = []\n",
    "    for movie_id in movies.index:\n",
    "        if movie_id in movie_posters and movie_posters[movie_id] != \"MISSING\":\n",
    "            poster_urls.append(movie_posters[movie_id])\n",
    "            continue\n",
    "        \n",
    "        try:            \n",
    "            apikey = apikeys[api_index]\n",
    "            response = requests.get(f'http://omdbapi.com/?apikey={apikey}&i={movie_id}')\n",
    "            poster_url = response.json()['Poster']\n",
    "            poster_url = poster_url.replace(\"300.jpg\", \"500.jpg\")\n",
    "            poster_urls.append(poster_url)\n",
    "            api_index = next(index_cycle)\n",
    "            \n",
    "        except:\n",
    "            poster_urls.append(\"MISSING\")\n",
    "            api_index = next(index_cycle)\n",
    "    \n",
    "    movies[\"poster_url\"] = poster_urls\n",
    "    \n",
    "    return movies"
   ]
  },
  {
   "cell_type": "code",
   "execution_count": null,
   "metadata": {},
   "outputs": [],
   "source": [
    "level0_movies = add_posters(level0_movies)\n",
    "level1_movies = add_posters(level1_movies)\n",
    "level2_movies = add_posters(level2_movies)\n",
    "level3_movies = add_posters(level3_movies)\n",
    "level4_movies = add_posters(level4_movies)\n",
    "\n",
    "assert len(level0_movies[level0_movies[\"poster_url\"] == \"MISSING\"]) == 0\n",
    "assert len(level1_movies[level1_movies[\"poster_url\"] == \"MISSING\"]) == 0\n",
    "assert len(level2_movies[level2_movies[\"poster_url\"] == \"MISSING\"]) == 0\n",
    "assert len(level3_movies[level3_movies[\"poster_url\"] == \"MISSING\"]) == 0\n",
    "assert len(level4_movies[level4_movies[\"poster_url\"] == \"MISSING\"]) == 0\n",
    "\n",
    "len(level0_movies), len(level1_movies), len(level2_movies), len(level3_movies), len(level4_movies)"
   ]
  },
  {
   "cell_type": "markdown",
   "metadata": {},
   "source": [
    "# Export Data as JSON"
   ]
  },
  {
   "cell_type": "code",
   "execution_count": null,
   "metadata": {},
   "outputs": [],
   "source": [
    "level0_movies.to_json(\"top_movies_level0.json\", orient=\"split\", index=False)\n",
    "level1_movies.to_json(\"top_movies_level1.json\", orient=\"split\", index=False)\n",
    "level2_movies.to_json(\"top_movies_level2.json\", orient=\"split\", index=False)\n",
    "level3_movies.to_json(\"top_movies_level3.json\", orient=\"split\", index=False)\n",
    "level4_movies.to_json(\"top_movies_level4.json\", orient=\"split\", index=False)"
   ]
  },
  {
   "cell_type": "markdown",
   "metadata": {},
   "source": [
    "# Libraries Used"
   ]
  },
  {
   "cell_type": "code",
   "execution_count": null,
   "metadata": {},
   "outputs": [],
   "source": [
    "!pip install watermark;"
   ]
  },
  {
   "cell_type": "code",
   "execution_count": null,
   "metadata": {},
   "outputs": [],
   "source": [
    "%load_ext watermark\n",
    "%watermark -n -u -v -iv -w"
   ]
  }
 ],
 "metadata": {
  "kernelspec": {
   "display_name": "Python 3",
   "language": "python",
   "name": "python3"
  },
  "language_info": {
   "codemirror_mode": {
    "name": "ipython",
    "version": 3
   },
   "file_extension": ".py",
   "mimetype": "text/x-python",
   "name": "python",
   "nbconvert_exporter": "python",
   "pygments_lexer": "ipython3",
   "version": "3.8.5"
  }
 },
 "nbformat": 4,
 "nbformat_minor": 4
}
