{
 "cells": [
  {
   "cell_type": "code",
   "execution_count": 1,
   "metadata": {},
   "outputs": [],
   "source": [
    "import os\n",
    "import random\n",
    "\n",
    "import pandas as pd\n",
    "import requests"
   ]
  },
  {
   "cell_type": "markdown",
   "metadata": {},
   "source": [
    "# Download Necessary Files"
   ]
  },
  {
   "cell_type": "code",
   "execution_count": 2,
   "metadata": {},
   "outputs": [],
   "source": [
    "required_files = [\"title.ratings.tsv.gz\", \"title.basics.tsv.gz\"]\n",
    "\n",
    "for file in required_files:\n",
    "    if os.path.isfile(file):\n",
    "        continue\n",
    "    \n",
    "    file_downloaded = requests.get(f\"https://datasets.imdbws.com/{file}\", allow_redirects=True)\n",
    "    with open(file, 'wb') as new_file:\n",
    "        new_file.write(file_downloaded.content)    "
   ]
  },
  {
   "cell_type": "markdown",
   "metadata": {},
   "source": [
    "# Read Movie Ratings"
   ]
  },
  {
   "cell_type": "code",
   "execution_count": 3,
   "metadata": {},
   "outputs": [],
   "source": [
    "movie_df_ = pd.read_csv(\"title.ratings.tsv.gz\", delimiter=\"\\t\", low_memory=False)"
   ]
  },
  {
   "cell_type": "code",
   "execution_count": 4,
   "metadata": {},
   "outputs": [],
   "source": [
    "movie_df = movie_df_.copy()\n",
    "movie_df = movie_df[movie_df[\"numVotes\"] >= 100000]\n",
    "movie_df = movie_df[movie_df[\"averageRating\"] >= 7.5]\n",
    "movie_df = movie_df.drop([\"numVotes\", \"averageRating\"], axis=1)\n",
    "movie_df = movie_df.set_index('tconst')"
   ]
  },
  {
   "cell_type": "markdown",
   "metadata": {},
   "source": [
    "# Read Movie Metadata"
   ]
  },
  {
   "cell_type": "code",
   "execution_count": 5,
   "metadata": {},
   "outputs": [],
   "source": [
    "extra_data_ = pd.read_csv(\"title.basics.tsv.gz\", delimiter=\"\\t\", low_memory=False)"
   ]
  },
  {
   "cell_type": "code",
   "execution_count": 6,
   "metadata": {},
   "outputs": [],
   "source": [
    "extra_data = extra_data_.copy()\n",
    "extra_data = extra_data.set_index('tconst')\n",
    "extra_data = extra_data.loc[movie_df.index]\n",
    "extra_data = extra_data[extra_data[\"isAdult\"] == \"0\"]\n",
    "extra_data = extra_data[extra_data[\"titleType\"] == 'movie']\n",
    "extra_data = extra_data[[\"startYear\", \"runtimeMinutes\", \"primaryTitle\"]]"
   ]
  },
  {
   "cell_type": "markdown",
   "metadata": {},
   "source": [
    "# Filtering"
   ]
  },
  {
   "cell_type": "code",
   "execution_count": 7,
   "metadata": {},
   "outputs": [],
   "source": [
    "extra_data = extra_data[(extra_data != '\\\\N').all(axis=1)]\n",
    "extra_data = extra_data[extra_data[\"runtimeMinutes\"].astype(int) > 70]\n",
    "extra_data = extra_data.drop(\"runtimeMinutes\", axis=1)\n",
    "extra_data = extra_data[extra_data[\"startYear\"].astype(int) > 1995]\n",
    "extra_data[\"movieID\"] = extra_data.index"
   ]
  },
  {
   "cell_type": "markdown",
   "metadata": {},
   "source": [
    "# Add Poster URL with OMDB API"
   ]
  },
  {
   "cell_type": "code",
   "execution_count": 8,
   "metadata": {},
   "outputs": [],
   "source": [
    "poster_urls = []\n",
    "\n",
    "apikeys = [\"fcbcfdd4\", \"354ba942\"]\n",
    "\n",
    "for movie_id in extra_data.index:\n",
    "    apikey = random.choice(apikeys)\n",
    "    response = requests.get(f'http://omdbapi.com/?apikey={apikey}&i={movie_id}')\n",
    "    poster_url = response.json()['Poster']\n",
    "    poster_url = poster_url.replace(\"300.jpg\", \"500.jpg\")\n",
    "    poster_urls.append(poster_url)\n",
    "\n",
    "extra_data[\"poster_url\"] = poster_urls"
   ]
  },
  {
   "cell_type": "markdown",
   "metadata": {},
   "source": [
    "# Export Data as JSON"
   ]
  },
  {
   "cell_type": "code",
   "execution_count": 9,
   "metadata": {},
   "outputs": [
    {
     "data": {
      "text/plain": [
       "('The Assassination of Jesse James by the Coward Robert Ford', 58)"
      ]
     },
     "execution_count": 9,
     "metadata": {},
     "output_type": "execute_result"
    }
   ],
   "source": [
    "longest_title = sorted(extra_data[\"primaryTitle\"].to_numpy(), key=len, reverse=True)[0]\n",
    "longest_title, len(longest_title)"
   ]
  },
  {
   "cell_type": "code",
   "execution_count": 10,
   "metadata": {},
   "outputs": [
    {
     "data": {
      "text/html": [
       "<div>\n",
       "<style scoped>\n",
       "    .dataframe tbody tr th:only-of-type {\n",
       "        vertical-align: middle;\n",
       "    }\n",
       "\n",
       "    .dataframe tbody tr th {\n",
       "        vertical-align: top;\n",
       "    }\n",
       "\n",
       "    .dataframe thead th {\n",
       "        text-align: right;\n",
       "    }\n",
       "</style>\n",
       "<table border=\"1\" class=\"dataframe\">\n",
       "  <thead>\n",
       "    <tr style=\"text-align: right;\">\n",
       "      <th></th>\n",
       "      <th>startYear</th>\n",
       "      <th>primaryTitle</th>\n",
       "      <th>movieID</th>\n",
       "      <th>poster_url</th>\n",
       "    </tr>\n",
       "    <tr>\n",
       "      <th>tconst</th>\n",
       "      <th></th>\n",
       "      <th></th>\n",
       "      <th></th>\n",
       "      <th></th>\n",
       "    </tr>\n",
       "  </thead>\n",
       "  <tbody>\n",
       "    <tr>\n",
       "      <th>tt0116282</th>\n",
       "      <td>1996</td>\n",
       "      <td>Fargo</td>\n",
       "      <td>tt0116282</td>\n",
       "      <td>https://m.media-amazon.com/images/M/MV5BNDJiZD...</td>\n",
       "    </tr>\n",
       "    <tr>\n",
       "      <th>tt0116922</th>\n",
       "      <td>1997</td>\n",
       "      <td>Lost Highway</td>\n",
       "      <td>tt0116922</td>\n",
       "      <td>https://m.media-amazon.com/images/M/MV5BYWUxOW...</td>\n",
       "    </tr>\n",
       "    <tr>\n",
       "      <th>tt0117381</th>\n",
       "      <td>1996</td>\n",
       "      <td>Primal Fear</td>\n",
       "      <td>tt0117381</td>\n",
       "      <td>https://m.media-amazon.com/images/M/MV5BZTM2NW...</td>\n",
       "    </tr>\n",
       "    <tr>\n",
       "      <th>tt0117665</th>\n",
       "      <td>1996</td>\n",
       "      <td>Sleepers</td>\n",
       "      <td>tt0117665</td>\n",
       "      <td>https://m.media-amazon.com/images/M/MV5BMzk1Mm...</td>\n",
       "    </tr>\n",
       "    <tr>\n",
       "      <th>tt0117731</th>\n",
       "      <td>1996</td>\n",
       "      <td>Star Trek: First Contact</td>\n",
       "      <td>tt0117731</td>\n",
       "      <td>https://m.media-amazon.com/images/M/MV5BYTllZj...</td>\n",
       "    </tr>\n",
       "    <tr>\n",
       "      <th>...</th>\n",
       "      <td>...</td>\n",
       "      <td>...</td>\n",
       "      <td>...</td>\n",
       "      <td>...</td>\n",
       "    </tr>\n",
       "    <tr>\n",
       "      <th>tt8110330</th>\n",
       "      <td>2020</td>\n",
       "      <td>Dil Bechara</td>\n",
       "      <td>tt8110330</td>\n",
       "      <td>https://m.media-amazon.com/images/M/MV5BNmI0MT...</td>\n",
       "    </tr>\n",
       "    <tr>\n",
       "      <th>tt8367814</th>\n",
       "      <td>2019</td>\n",
       "      <td>The Gentlemen</td>\n",
       "      <td>tt8367814</td>\n",
       "      <td>https://m.media-amazon.com/images/M/MV5BMTlkMm...</td>\n",
       "    </tr>\n",
       "    <tr>\n",
       "      <th>tt8404614</th>\n",
       "      <td>2019</td>\n",
       "      <td>The Two Popes</td>\n",
       "      <td>tt8404614</td>\n",
       "      <td>https://m.media-amazon.com/images/M/MV5BY2RiOT...</td>\n",
       "    </tr>\n",
       "    <tr>\n",
       "      <th>tt8579674</th>\n",
       "      <td>2019</td>\n",
       "      <td>1917</td>\n",
       "      <td>tt8579674</td>\n",
       "      <td>https://m.media-amazon.com/images/M/MV5BOTdmNT...</td>\n",
       "    </tr>\n",
       "    <tr>\n",
       "      <th>tt8946378</th>\n",
       "      <td>2019</td>\n",
       "      <td>Knives Out</td>\n",
       "      <td>tt8946378</td>\n",
       "      <td>https://m.media-amazon.com/images/M/MV5BMGUwZj...</td>\n",
       "    </tr>\n",
       "  </tbody>\n",
       "</table>\n",
       "<p>439 rows × 4 columns</p>\n",
       "</div>"
      ],
      "text/plain": [
       "          startYear              primaryTitle    movieID  \\\n",
       "tconst                                                     \n",
       "tt0116282      1996                     Fargo  tt0116282   \n",
       "tt0116922      1997              Lost Highway  tt0116922   \n",
       "tt0117381      1996               Primal Fear  tt0117381   \n",
       "tt0117665      1996                  Sleepers  tt0117665   \n",
       "tt0117731      1996  Star Trek: First Contact  tt0117731   \n",
       "...             ...                       ...        ...   \n",
       "tt8110330      2020               Dil Bechara  tt8110330   \n",
       "tt8367814      2019             The Gentlemen  tt8367814   \n",
       "tt8404614      2019             The Two Popes  tt8404614   \n",
       "tt8579674      2019                      1917  tt8579674   \n",
       "tt8946378      2019                Knives Out  tt8946378   \n",
       "\n",
       "                                                  poster_url  \n",
       "tconst                                                        \n",
       "tt0116282  https://m.media-amazon.com/images/M/MV5BNDJiZD...  \n",
       "tt0116922  https://m.media-amazon.com/images/M/MV5BYWUxOW...  \n",
       "tt0117381  https://m.media-amazon.com/images/M/MV5BZTM2NW...  \n",
       "tt0117665  https://m.media-amazon.com/images/M/MV5BMzk1Mm...  \n",
       "tt0117731  https://m.media-amazon.com/images/M/MV5BYTllZj...  \n",
       "...                                                      ...  \n",
       "tt8110330  https://m.media-amazon.com/images/M/MV5BNmI0MT...  \n",
       "tt8367814  https://m.media-amazon.com/images/M/MV5BMTlkMm...  \n",
       "tt8404614  https://m.media-amazon.com/images/M/MV5BY2RiOT...  \n",
       "tt8579674  https://m.media-amazon.com/images/M/MV5BOTdmNT...  \n",
       "tt8946378  https://m.media-amazon.com/images/M/MV5BMGUwZj...  \n",
       "\n",
       "[439 rows x 4 columns]"
      ]
     },
     "execution_count": 10,
     "metadata": {},
     "output_type": "execute_result"
    }
   ],
   "source": [
    "extra_data"
   ]
  },
  {
   "cell_type": "code",
   "execution_count": 11,
   "metadata": {},
   "outputs": [],
   "source": [
    "extra_data.to_json(\"top_movies.json\", orient=\"split\", index=False)"
   ]
  },
  {
   "cell_type": "markdown",
   "metadata": {},
   "source": [
    "# Libraries Used"
   ]
  },
  {
   "cell_type": "code",
   "execution_count": 12,
   "metadata": {},
   "outputs": [
    {
     "name": "stdout",
     "output_type": "stream",
     "text": [
      "Requirement already satisfied: watermark in c:\\users\\elcg\\anaconda3\\lib\\site-packages (2.1.0)\n",
      "Requirement already satisfied: ipython in c:\\users\\elcg\\anaconda3\\lib\\site-packages (from watermark) (7.19.0)\n",
      "Requirement already satisfied: setuptools>=18.5 in c:\\users\\elcg\\anaconda3\\lib\\site-packages (from ipython->watermark) (50.3.1.post20201107)\n",
      "Requirement already satisfied: prompt-toolkit!=3.0.0,!=3.0.1,<3.1.0,>=2.0.0 in c:\\users\\elcg\\anaconda3\\lib\\site-packages (from ipython->watermark) (3.0.8)\n",
      "Requirement already satisfied: traitlets>=4.2 in c:\\users\\elcg\\anaconda3\\lib\\site-packages (from ipython->watermark) (5.0.5)\n",
      "Requirement already satisfied: jedi>=0.10 in c:\\users\\elcg\\anaconda3\\lib\\site-packages (from ipython->watermark) (0.17.1)\n",
      "Requirement already satisfied: pickleshare in c:\\users\\elcg\\anaconda3\\lib\\site-packages (from ipython->watermark) (0.7.5)\n",
      "Requirement already satisfied: pygments in c:\\users\\elcg\\anaconda3\\lib\\site-packages (from ipython->watermark) (2.6.1)\n",
      "Requirement already satisfied: backcall in c:\\users\\elcg\\anaconda3\\lib\\site-packages (from ipython->watermark) (0.2.0)\n",
      "Requirement already satisfied: decorator in c:\\users\\elcg\\anaconda3\\lib\\site-packages (from ipython->watermark) (4.4.2)\n",
      "Requirement already satisfied: colorama; sys_platform == \"win32\" in c:\\users\\elcg\\anaconda3\\lib\\site-packages (from ipython->watermark) (0.4.4)\n",
      "Requirement already satisfied: wcwidth in c:\\users\\elcg\\anaconda3\\lib\\site-packages (from prompt-toolkit!=3.0.0,!=3.0.1,<3.1.0,>=2.0.0->ipython->watermark) (0.2.5)\n",
      "Requirement already satisfied: ipython-genutils in c:\\users\\elcg\\anaconda3\\lib\\site-packages (from traitlets>=4.2->ipython->watermark) (0.2.0)\n",
      "Requirement already satisfied: parso<0.8.0,>=0.7.0 in c:\\users\\elcg\\anaconda3\\lib\\site-packages (from jedi>=0.10->ipython->watermark) (0.7.0)\n"
     ]
    }
   ],
   "source": [
    "!pip install watermark;"
   ]
  },
  {
   "cell_type": "code",
   "execution_count": 13,
   "metadata": {},
   "outputs": [
    {
     "name": "stdout",
     "output_type": "stream",
     "text": [
      "Last updated: Fri Jan 15 2021\n",
      "\n",
      "Python implementation: CPython\n",
      "Python version       : 3.8.5\n",
      "IPython version      : 7.19.0\n",
      "\n",
      "pandas  : 1.1.3\n",
      "requests: 2.11.1\n",
      "\n",
      "Watermark: 2.1.0\n",
      "\n"
     ]
    }
   ],
   "source": [
    "%load_ext watermark\n",
    "%watermark -n -u -v -iv -w"
   ]
  }
 ],
 "metadata": {
  "kernelspec": {
   "display_name": "Python 3",
   "language": "python",
   "name": "python3"
  },
  "language_info": {
   "codemirror_mode": {
    "name": "ipython",
    "version": 3
   },
   "file_extension": ".py",
   "mimetype": "text/x-python",
   "name": "python",
   "nbconvert_exporter": "python",
   "pygments_lexer": "ipython3",
   "version": "3.8.5"
  }
 },
 "nbformat": 4,
 "nbformat_minor": 4
}
